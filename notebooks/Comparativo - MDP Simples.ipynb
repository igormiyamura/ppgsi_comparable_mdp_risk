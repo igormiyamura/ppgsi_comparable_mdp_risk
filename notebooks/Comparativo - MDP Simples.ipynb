{
 "cells": [
  {
   "cell_type": "code",
   "execution_count": 13,
   "metadata": {},
   "outputs": [
    {
     "name": "stdout",
     "output_type": "stream",
     "text": [
      "The autoreload extension is already loaded. To reload it, use:\n",
      "  %reload_ext autoreload\n"
     ]
    }
   ],
   "source": [
    "# Bibliotecas\n",
    "import sys, numpy as np, matplotlib.pyplot as plt, plotly.graph_objects as go\n",
    "sys.path.append('../ppgsi_mdp_risk')\n",
    "\n",
    "from ppgsi_mdp_risk.function import FunctionFactory\n",
    "\n",
    "%load_ext autoreload\n",
    "%autoreload 2"
   ]
  },
  {
   "cell_type": "markdown",
   "metadata": {},
   "source": [
    "# MDP Simples\n",
    "\n",
    "As seguintes metodologias foram aplicadas neste ambiente:\n",
    "\n",
    "|Metodologia|Descritivo|\n",
    "|--|--|\n",
    "|Exponential Utility Function||\n",
    "|Piecewise-Linear||\n",
    "|Polynomial Utility Function||\n",
    "|VaR (Value at Risk)||\n",
    "|CVaR (Conditional Value at Risk)||\n",
    "\n"
   ]
  },
  {
   "cell_type": "code",
   "execution_count": 14,
   "metadata": {},
   "outputs": [],
   "source": [
    "# Parametros\n",
    "nm_polynomial_function = 'PolynomialFunction'\n",
    "\n",
    "# Objetos\n",
    "_ff = FunctionFactory.FunctionFactory()\n",
    "_poly = _ff.get_function(nm_polynomial_function)"
   ]
  },
  {
   "cell_type": "code",
   "execution_count": 15,
   "metadata": {},
   "outputs": [
    {
     "data": {
      "text/plain": [
       "0.16431676725154987"
      ]
     },
     "execution_count": 15,
     "metadata": {},
     "output_type": "execute_result"
    }
   ],
   "source": [
    "_poly.get_equivalent_cost(\n",
    "    p=0.5, \n",
    "    c=0.1, \n",
    "    p_line=0.75,\n",
    "    beta=2\n",
    ")"
   ]
  },
  {
   "cell_type": "code",
   "execution_count": 11,
   "metadata": {},
   "outputs": [
    {
     "data": {
      "text/plain": [
       "1.6432"
      ]
     },
     "execution_count": 11,
     "metadata": {},
     "output_type": "execute_result"
    }
   ],
   "source": [
    "_poly.get_empirical_equivalent_cost(\n",
    "    p=0.5, \n",
    "    c=1, \n",
    "    p_line=0.75, \n",
    "    beta=2, \n",
    "    th=0.1,\n",
    "    _quiet=True                           \n",
    ")"
   ]
  },
  {
   "cell_type": "code",
   "execution_count": null,
   "metadata": {},
   "outputs": [],
   "source": []
  },
  {
   "cell_type": "code",
   "execution_count": null,
   "metadata": {},
   "outputs": [],
   "source": []
  }
 ],
 "metadata": {
  "kernelspec": {
   "display_name": "env",
   "language": "python",
   "name": "python3"
  },
  "language_info": {
   "codemirror_mode": {
    "name": "ipython",
    "version": 3
   },
   "file_extension": ".py",
   "mimetype": "text/x-python",
   "name": "python",
   "nbconvert_exporter": "python",
   "pygments_lexer": "ipython3",
   "version": "3.11.1"
  }
 },
 "nbformat": 4,
 "nbformat_minor": 2
}

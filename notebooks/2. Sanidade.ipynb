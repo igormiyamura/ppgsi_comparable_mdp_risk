{
 "cells": [
  {
   "cell_type": "code",
   "execution_count": 1,
   "id": "afa5bd79-0d7c-4785-944d-a18e9b3ffc74",
   "metadata": {},
   "outputs": [],
   "source": [
    "# Bibliotecas\n",
    "import sys, os, pandas as pd, numpy as np\n",
    "from os.path import exists\n",
    "\n",
    "# Ambiente\n",
    "sys.path.append('../ppgsi_mdp_risk')\n",
    "from ppgsi_mdp_risk.env.SimpleMDP import SimpleMDP\n",
    "from ppgsi_mdp_risk.models.ExponentialUtility_RSPI import ExponentialUtility_RSPI\n",
    "from ppgsi_mdp_risk.models.ExponentialUtility_RSVI import ExponentialUtility_RSVI\n",
    "from ppgsi_mdp_risk.models.CVAR_PECVaR import CVAR_PECVaR\n",
    "\n",
    "# Utils\n",
    "import ppgsi_mdp_risk.rl_utils.NBPlotting as nbp\n",
    "import ppgsi_mdp_risk.rl_utils.NBManipulation as nbm\n",
    "import ppgsi_mdp_risk.rl_utils.NBEvaluations as nbe\n",
    "\n",
    "# Configuration Region\n",
    "from ppgsi_mdp_risk.function import FunctionFactory\n",
    "from ppgsi_mdp_risk.curves import EquivalentCostCurve\n",
    "\n",
    "# Reload\n",
    "%load_ext autoreload\n",
    "%autoreload 2"
   ]
  },
  {
   "cell_type": "markdown",
   "id": "48db4672-ef0c-4305-b848-628f077b9df5",
   "metadata": {},
   "source": [
    "## Parâmetros"
   ]
  },
  {
   "cell_type": "code",
   "execution_count": 2,
   "id": "5be5f5ad-eeee-420c-95d1-338c2581bfa5",
   "metadata": {},
   "outputs": [],
   "source": [
    "# Configurações do ambiente\n",
    "states, actions = 1, 1\n",
    "epsilon = 0.000001\n",
    "\n",
    "# Define Custo (C)\n",
    "C = {}\n",
    "for a in range(0, actions):\n",
    "    C[a] = a + 1\n",
    "    \n",
    "c = C[0]\n",
    "\n",
    "# Define Probabilidade (p)\n",
    "p = 0.5\n",
    "\n",
    "# Cria MDP\n",
    "s_mdp = SimpleMDP(num_states = states, \n",
    "                  num_actions = actions, \n",
    "                  _fixed_probability = p, \n",
    "                  _float_probability = 0.1)\n",
    "\n",
    "T = s_mdp.build_transition_probabilities()\n",
    "\n",
    "config_reduzida = False\n",
    "\n",
    "# Configurações de processamento\n",
    "run_cvar = True\n",
    "\n",
    "# Configurações dos modelos\n",
    "discount_factor = 0.999\n",
    "\n",
    "rini_p = 0.05\n",
    "rend_p = 1\n",
    "step_p = 0.05\n",
    "range_x = [np.round(v, 2) for v in np.arange(rini_p, rend_p, step_p)]\n",
    "\n",
    "# Configuration Region\n",
    "_ecc = {}\n",
    "\n",
    "nm_exponential_function = 'ExponentialFunction'\n",
    "_ff = FunctionFactory.FunctionFactory()\n",
    "_exp = _ff.get_function(nm_exponential_function)\n",
    "_ecc[nm_exponential_function] = EquivalentCostCurve.EquivalentCostCurve(_exp, nm_exponential_function, rini_p=rini_p, rend_p=rend_p, step_p=step_p)"
   ]
  },
  {
   "cell_type": "markdown",
   "id": "b70f3026-8c69-4d25-9d72-404164202433",
   "metadata": {},
   "source": [
    "# 1. Teste Sanidade"
   ]
  },
  {
   "cell_type": "markdown",
   "id": "1a16fa47-4650-4852-b4ee-dd949f39d342",
   "metadata": {},
   "source": [
    "## 1.1. Exponential Utility Function\n",
    "\n",
    "$$\n",
    "V(s) = \\frac{e^{\\lambda c} \\times p}{(1 - e^{\\lambda c} \\times (1-p))}\n",
    "$$"
   ]
  },
  {
   "cell_type": "code",
   "execution_count": 3,
   "id": "c715c875-3903-45cf-9858-7efc6263e9ed",
   "metadata": {},
   "outputs": [
    {
     "name": "stdout",
     "output_type": "stream",
     "text": [
      "Número de Iterações: 11......\n",
      "Número de Iterações: 13......\n",
      "Número de Iterações: 16......\n",
      "Número de Iterações: 21......\n",
      "Número de Iterações: 63......\n"
     ]
    },
    {
     "data": {
      "text/plain": [
       "dict_keys([-0.9, -0.5, -0.1, 0.1, 0.5])"
      ]
     },
     "metadata": {},
     "output_type": "display_data"
    },
    {
     "data": {
      "text/html": [
       "<div>\n",
       "<style scoped>\n",
       "    .dataframe tbody tr th:only-of-type {\n",
       "        vertical-align: middle;\n",
       "    }\n",
       "\n",
       "    .dataframe tbody tr th {\n",
       "        vertical-align: top;\n",
       "    }\n",
       "\n",
       "    .dataframe thead th {\n",
       "        text-align: right;\n",
       "    }\n",
       "</style>\n",
       "<table border=\"1\" class=\"dataframe\">\n",
       "  <thead>\n",
       "    <tr style=\"text-align: right;\">\n",
       "      <th></th>\n",
       "      <th>0</th>\n",
       "      <th>sG</th>\n",
       "    </tr>\n",
       "  </thead>\n",
       "  <tbody>\n",
       "    <tr>\n",
       "      <th>Policy -0.9</th>\n",
       "      <td>0</td>\n",
       "      <td>0</td>\n",
       "    </tr>\n",
       "    <tr>\n",
       "      <th>Policy -0.5</th>\n",
       "      <td>0</td>\n",
       "      <td>0</td>\n",
       "    </tr>\n",
       "    <tr>\n",
       "      <th>Policy -0.1</th>\n",
       "      <td>0</td>\n",
       "      <td>0</td>\n",
       "    </tr>\n",
       "    <tr>\n",
       "      <th>Policy 0.1</th>\n",
       "      <td>0</td>\n",
       "      <td>0</td>\n",
       "    </tr>\n",
       "    <tr>\n",
       "      <th>Policy 0.5</th>\n",
       "      <td>0</td>\n",
       "      <td>0</td>\n",
       "    </tr>\n",
       "  </tbody>\n",
       "</table>\n",
       "</div>"
      ],
      "text/plain": [
       "             0  sG\n",
       "Policy -0.9  0   0\n",
       "Policy -0.5  0   0\n",
       "Policy -0.1  0   0\n",
       "Policy 0.1   0   0\n",
       "Policy 0.5   0   0"
      ]
     },
     "metadata": {},
     "output_type": "display_data"
    }
   ],
   "source": [
    "EUF_RSVI = {}\n",
    "    \n",
    "# range_lambda = [np.round(-0.5 + 0.5*i/10, 2) for i in range(0, 20)] \n",
    "range_lambda = [-0.9, -0.5, -0.1, 0.1, 0.5]\n",
    "\n",
    "for vl_lambda in range_lambda:\n",
    "    print(f'Processando: Lambda [{vl_lambda}]', end='\\r')\n",
    "    EUF_RSVI[vl_lambda] = \\\n",
    "        nbe.run_driving_license(s_mdp, T, C, actions, model=ExponentialUtility_RSVI, model_name='EUF_RSVI',\n",
    "        vl_lambda=vl_lambda, epsilon=epsilon, _log=True)\n",
    "\n",
    "display(EUF_RSVI.keys())\n",
    "\n",
    "df_EUF_RSVI = nbm.build_dataframe_driver_license(EUF_RSVI)\n",
    "display(df_EUF_RSVI)"
   ]
  },
  {
   "cell_type": "code",
   "execution_count": 4,
   "id": "66531708-f92d-466c-81f3-6494b08ee6d8",
   "metadata": {},
   "outputs": [
    {
     "name": "stdout",
     "output_type": "stream",
     "text": [
      "Policy Value w/ Configuration Region Method: 1.2350637014377652\n",
      "Policy Value w/ Algorithm: 1.235062786115401\n",
      "Diferença: -9.153223641256147e-07\n"
     ]
    }
   ],
   "source": [
    "vl_lambda = 0.1\n",
    "policy_value_configuration_region = _exp.get_value_function(vl_lambda, p, c)\n",
    "policy_value_algorithm = EUF_RSVI[vl_lambda]._policy_value[0][0]\n",
    "\n",
    "print(f'Policy Value w/ Configuration Region Method: {policy_value_configuration_region}')\n",
    "print(f'Policy Value w/ Algorithm: {policy_value_algorithm[-1]}')\n",
    "\n",
    "print(f'Diferença: {policy_value_algorithm[-1] - policy_value_configuration_region}')"
   ]
  },
  {
   "cell_type": "markdown",
   "id": "8ae802e9-d28f-4823-8116-cb7b47b616cc",
   "metadata": {},
   "source": [
    "# 1. Teste Sanidade - CVaR"
   ]
  },
  {
   "cell_type": "code",
   "execution_count": 45,
   "id": "6b9ed8db-b325-4b4a-95de-dcf718edc160",
   "metadata": {},
   "outputs": [
    {
     "name": "stdout",
     "output_type": "stream",
     "text": [
      "Número de Iterações: 1......\n"
     ]
    }
   ],
   "source": [
    "_cvar_test = \\\n",
    "    nbe.run_driving_license(s_mdp, T, C, actions, model=CVAR_PECVaR, model_name='CVAR_PECVaR',\n",
    "        alpha=0.99, discount_factor=0.99, max_iter=100, _log=True)"
   ]
  },
  {
   "cell_type": "code",
   "execution_count": 46,
   "id": "c7010b1c-f3ac-43d5-93c8-9465980481bd",
   "metadata": {},
   "outputs": [
    {
     "data": {
      "text/plain": [
       "1"
      ]
     },
     "execution_count": 46,
     "metadata": {},
     "output_type": "execute_result"
    }
   ],
   "source": [
    "actions"
   ]
  },
  {
   "cell_type": "code",
   "execution_count": 47,
   "id": "95352e10-faff-41f5-ae4e-5b95979736c8",
   "metadata": {},
   "outputs": [
    {
     "data": {
      "text/plain": [
       "{0: 63.39676587267702, 'sG': 62.762798213950255}"
      ]
     },
     "execution_count": 47,
     "metadata": {},
     "output_type": "execute_result"
    }
   ],
   "source": [
    "_cvar_test.CVaR0"
   ]
  },
  {
   "cell_type": "code",
   "execution_count": 48,
   "id": "d6271916-223d-4b6d-b1ef-e15d68bc99e8",
   "metadata": {},
   "outputs": [
    {
     "data": {
      "text/plain": [
       "{0: 1.9801980198019802, 'sG': 0.0}"
      ]
     },
     "execution_count": 48,
     "metadata": {},
     "output_type": "execute_result"
    }
   ],
   "source": [
    "_cvar_test.V"
   ]
  },
  {
   "cell_type": "code",
   "execution_count": 49,
   "id": "bf8d8a85-8ce7-4bc3-bde1-d7ee1a77e5fe",
   "metadata": {},
   "outputs": [
    {
     "data": {
      "text/plain": [
       "100"
      ]
     },
     "execution_count": 49,
     "metadata": {},
     "output_type": "execute_result"
    }
   ],
   "source": [
    "_cvar_test._iteration"
   ]
  },
  {
   "cell_type": "code",
   "execution_count": 50,
   "id": "ec72d0f2-5b35-470e-9fbd-32ced09ce656",
   "metadata": {},
   "outputs": [
    {
     "data": {
      "text/plain": [
       "{0: 0, 'sG': 0}"
      ]
     },
     "execution_count": 50,
     "metadata": {},
     "output_type": "execute_result"
    }
   ],
   "source": [
    "_cvar_test.PI"
   ]
  }
 ],
 "metadata": {
  "kernelspec": {
   "display_name": "Python 3 (ipykernel)",
   "language": "python",
   "name": "python3"
  },
  "language_info": {
   "codemirror_mode": {
    "name": "ipython",
    "version": 3
   },
   "file_extension": ".py",
   "mimetype": "text/x-python",
   "name": "python",
   "nbconvert_exporter": "python",
   "pygments_lexer": "ipython3",
   "version": "3.11.1"
  }
 },
 "nbformat": 4,
 "nbformat_minor": 5
}
